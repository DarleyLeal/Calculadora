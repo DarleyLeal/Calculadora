{
  "cells": [
    {
      "cell_type": "markdown",
      "metadata": {
        "id": "view-in-github",
        "colab_type": "text"
      },
      "source": [
        "<a href=\"https://colab.research.google.com/github/DarleyLeal/Calculadora/blob/master/Untitled0.ipynb\" target=\"_parent\"><img src=\"https://colab.research.google.com/assets/colab-badge.svg\" alt=\"Open In Colab\"/></a>"
      ]
    },
    {
      "cell_type": "code",
      "source": [],
      "metadata": {
        "id": "rAlgppJ0uSwZ"
      },
      "execution_count": null,
      "outputs": []
    },
    {
      "cell_type": "code",
      "source": [],
      "metadata": {
        "id": "tOQB7HYXuZ8V"
      },
      "execution_count": null,
      "outputs": []
    },
    {
      "cell_type": "code",
      "source": [],
      "metadata": {
        "id": "-z2irocUuZ_l"
      },
      "execution_count": null,
      "outputs": []
    },
    {
      "cell_type": "code",
      "source": [],
      "metadata": {
        "id": "Vaz8UIG1uaSn"
      },
      "execution_count": null,
      "outputs": []
    },
    {
      "cell_type": "code",
      "source": [],
      "metadata": {
        "id": "Ova9Jm_vuU0c"
      },
      "execution_count": null,
      "outputs": []
    },
    {
      "cell_type": "code",
      "source": [],
      "metadata": {
        "id": "fPIdUwJauU4x"
      },
      "execution_count": null,
      "outputs": []
    },
    {
      "cell_type": "code",
      "source": [],
      "metadata": {
        "id": "NjGUk9EzuU66"
      },
      "execution_count": null,
      "outputs": []
    },
    {
      "cell_type": "code",
      "source": [],
      "metadata": {
        "id": "ZTz8gV7JuU-Z"
      },
      "execution_count": null,
      "outputs": []
    },
    {
      "cell_type": "code",
      "source": [],
      "metadata": {
        "id": "zHWTaAjPuVCM"
      },
      "execution_count": null,
      "outputs": []
    },
    {
      "cell_type": "code",
      "source": [],
      "metadata": {
        "id": "tXIsJyfDuVFZ"
      },
      "execution_count": null,
      "outputs": []
    },
    {
      "cell_type": "code",
      "source": [],
      "metadata": {
        "id": "bfnN6qwkuVI2"
      },
      "execution_count": null,
      "outputs": []
    },
    {
      "cell_type": "markdown",
      "source": [],
      "metadata": {
        "id": "E7epGjq2uVqo"
      }
    },
    {
      "cell_type": "code",
      "execution_count": null,
      "metadata": {
        "id": "IXY3eVuavB66",
        "colab": {
          "base_uri": "https://localhost:8080/"
        },
        "outputId": "33d0b41c-4ef1-4637-c753-78773ee481fd"
      },
      "outputs": [
        {
          "output_type": "stream",
          "name": "stdout",
          "text": [
            "8.5\n",
            "lógica de programação\n"
          ]
        }
      ],
      "source": [
        "nota = 8.5\n",
        "disciplina = 'lógica de programação'\n",
        "\n",
        "print(nota)\n",
        "print(disciplina)\n",
        "\n",
        "\n",
        "\n",
        "\n",
        "\n"
      ]
    },
    {
      "cell_type": "code",
      "source": [
        "a = 1\n",
        "b = 5"
      ],
      "metadata": {
        "id": "A2L_pmGwyhWJ"
      },
      "execution_count": null,
      "outputs": []
    },
    {
      "cell_type": "code",
      "source": [
        "resposta = a == b\n",
        "print(resposta)"
      ],
      "metadata": {
        "colab": {
          "base_uri": "https://localhost:8080/"
        },
        "id": "dcKzeRq6ymsy",
        "outputId": "0039af20-8bbb-42cd-ef28-c2ec6339ceaf"
      },
      "execution_count": null,
      "outputs": [
        {
          "output_type": "stream",
          "name": "stdout",
          "text": [
            "False\n"
          ]
        }
      ]
    },
    {
      "cell_type": "code",
      "source": [
        "resposta = a != b\n",
        "print(resposta)"
      ],
      "metadata": {
        "colab": {
          "base_uri": "https://localhost:8080/"
        },
        "id": "wn7xUTZLynB0",
        "outputId": "a63a017d-9437-45a7-accc-f2658c709181"
      },
      "execution_count": null,
      "outputs": [
        {
          "output_type": "stream",
          "name": "stdout",
          "text": [
            "True\n"
          ]
        }
      ]
    },
    {
      "cell_type": "code",
      "source": [
        "s1 = 'Logica de programacao '\n",
        "s1 = s1 + 'e algoritmos'\n",
        "print(s1)"
      ],
      "metadata": {
        "colab": {
          "base_uri": "https://localhost:8080/"
        },
        "id": "ljDstC_rzygN",
        "outputId": "90a66a6d-83ae-4f77-e32c-5ca37c32793d"
      },
      "execution_count": null,
      "outputs": [
        {
          "output_type": "stream",
          "name": "stdout",
          "text": [
            "Logica de programacao e algoritmos\n"
          ]
        }
      ]
    },
    {
      "cell_type": "code",
      "source": [
        "s1 = 'A' + '-' * 26 + 'Z'\n",
        "print(s1)"
      ],
      "metadata": {
        "colab": {
          "base_uri": "https://localhost:8080/"
        },
        "id": "nojo7PhAzy3t",
        "outputId": "7f0bcfbc-fb1d-475a-acdd-fa8823e31a2d"
      },
      "execution_count": null,
      "outputs": [
        {
          "output_type": "stream",
          "name": "stdout",
          "text": [
            "A--------------------------Z\n"
          ]
        }
      ]
    },
    {
      "cell_type": "code",
      "source": [
        "nota = 8.5\n",
        "s1 = 'Voce tirou %.2f na disciplina de algoritmos' % nota\n",
        "print(s1)"
      ],
      "metadata": {
        "colab": {
          "base_uri": "https://localhost:8080/"
        },
        "id": "HeCADe-F2K4_",
        "outputId": "3c54d9ce-291a-4e05-9978-98354dd9deef"
      },
      "execution_count": null,
      "outputs": [
        {
          "output_type": "stream",
          "name": "stdout",
          "text": [
            "Voce tirou 8.50 na disciplina de algoritmos\n"
          ]
        }
      ]
    },
    {
      "cell_type": "code",
      "source": [
        "nota = 9.5\n",
        "disciplina = 'Algoritmos'\n",
        "s1 = 'Voce tirou {} na disciplina de {}' .format(nota, disciplina)\n",
        "print(s1)"
      ],
      "metadata": {
        "colab": {
          "base_uri": "https://localhost:8080/"
        },
        "id": "twNh_hsS2LL0",
        "outputId": "55e39ff2-7980-4bd4-bfed-f010fb6a2ff5"
      },
      "execution_count": null,
      "outputs": [
        {
          "output_type": "stream",
          "name": "stdout",
          "text": [
            "Voce tirou 9.5 na disciplina de Algoritmos\n"
          ]
        }
      ]
    },
    {
      "cell_type": "code",
      "source": [
        "s1 = 'Logica de programacao e Algoritmos'\n",
        "print(s1[0:6])"
      ],
      "metadata": {
        "colab": {
          "base_uri": "https://localhost:8080/"
        },
        "id": "XCJVOnuq4o3w",
        "outputId": "11bcf65e-e532-4b8f-b464-0a92defbe585"
      },
      "execution_count": null,
      "outputs": [
        {
          "output_type": "stream",
          "name": "stdout",
          "text": [
            "Logica\n"
          ]
        }
      ]
    },
    {
      "cell_type": "code",
      "source": [
        "s1 = 'Logica de programacao e Algoritmos'\n",
        "print(s1[24:34])"
      ],
      "metadata": {
        "colab": {
          "base_uri": "https://localhost:8080/"
        },
        "id": "PBHb6FLH4pFF",
        "outputId": "e840c31c-c597-4ed8-ffed-a4ee443b815a"
      },
      "execution_count": null,
      "outputs": [
        {
          "output_type": "stream",
          "name": "stdout",
          "text": [
            "Algoritmos\n"
          ]
        }
      ]
    },
    {
      "cell_type": "code",
      "source": [
        "s1 = 'Logica de programacao e Algoritmos'\n",
        "print(s1[:6])"
      ],
      "metadata": {
        "colab": {
          "base_uri": "https://localhost:8080/"
        },
        "id": "rksZBDFU4pMV",
        "outputId": "4b06fadb-889a-4886-b1a1-3085c0e2df87"
      },
      "execution_count": null,
      "outputs": [
        {
          "output_type": "stream",
          "name": "stdout",
          "text": [
            "Logica\n"
          ]
        }
      ]
    },
    {
      "cell_type": "markdown",
      "source": [
        "AQUI EU PUDE TRAZER APENAS A PALAVRA QUE EU QUERIA, POR EXEMPLO NA PRIMEIRA PEDI PARA TRAZER A LETRA 0 ATE  A NÚMERO 6\n",
        "s1 = 'Logica de programacao e Algoritmos'\n",
        "print(s1[0:6])"
      ],
      "metadata": {
        "id": "HL0p8fJY5KCn"
      }
    },
    {
      "cell_type": "code",
      "source": [
        "s1 = 'Logica de programacao e Algoritmos'\n",
        "tamanho = len(s1)\n",
        "print(tamanho)"
      ],
      "metadata": {
        "colab": {
          "base_uri": "https://localhost:8080/"
        },
        "id": "BbDUByEdzzDw",
        "outputId": "e647109c-2597-4cb8-835e-4d2d06302267"
      },
      "execution_count": null,
      "outputs": [
        {
          "output_type": "stream",
          "name": "stdout",
          "text": [
            "34\n"
          ]
        }
      ]
    },
    {
      "cell_type": "markdown",
      "source": [
        "essa funçao mostra a quantidade de caracteres que temos nessa string\n",
        "\n"
      ],
      "metadata": {
        "id": "YaLuktx_6HRa"
      }
    },
    {
      "cell_type": "code",
      "source": [],
      "metadata": {
        "id": "8uZJV4DK6UqV"
      },
      "execution_count": null,
      "outputs": []
    },
    {
      "cell_type": "code",
      "source": [
        "idade = input('Qual sua idade?')\n",
        "print(idade)"
      ],
      "metadata": {
        "colab": {
          "base_uri": "https://localhost:8080/"
        },
        "id": "bFusKKpK6Utk",
        "outputId": "83199143-5c97-4200-a3db-1f69ce2f6383"
      },
      "execution_count": null,
      "outputs": [
        {
          "output_type": "stream",
          "name": "stdout",
          "text": [
            "Qual sua idade?5\n",
            "5\n"
          ]
        }
      ]
    },
    {
      "cell_type": "code",
      "source": [
        "nome = input('Qual seu nome? ')\n",
        "print('Ola {}, seja bem-vindo!'.format(nome))"
      ],
      "metadata": {
        "colab": {
          "base_uri": "https://localhost:8080/"
        },
        "id": "s9W5YmBG7fdQ",
        "outputId": "1fe95181-be56-4d1d-99b2-1c79439e763a"
      },
      "execution_count": null,
      "outputs": [
        {
          "output_type": "stream",
          "name": "stdout",
          "text": [
            "Qual seu nome? Darley\n",
            "Ola Darley, seja bem-vindo!\n"
          ]
        }
      ]
    },
    {
      "cell_type": "code",
      "source": [
        "nota = float(input('Qual nota voce recebeu na disciplina?'))\n",
        "print('Voce tirou nota {}.'.format(nota))"
      ],
      "metadata": {
        "colab": {
          "base_uri": "https://localhost:8080/"
        },
        "id": "75Wq-iBj7fgo",
        "outputId": "8e854924-73ac-4142-dd74-ff5dc06f1f6a"
      },
      "execution_count": null,
      "outputs": [
        {
          "output_type": "stream",
          "name": "stdout",
          "text": [
            "Qual nota voce recebeu na disciplina?8.5\n",
            "Voce tirou nota 8.5.\n"
          ]
        }
      ]
    },
    {
      "cell_type": "code",
      "source": [],
      "metadata": {
        "id": "s1qHpoRC7fir"
      },
      "execution_count": null,
      "outputs": []
    },
    {
      "cell_type": "code",
      "source": [],
      "metadata": {
        "id": "JucCEAHX7flp"
      },
      "execution_count": null,
      "outputs": []
    },
    {
      "cell_type": "code",
      "source": [],
      "metadata": {
        "id": "_UibXgMX7fpL"
      },
      "execution_count": null,
      "outputs": []
    }
  ],
  "metadata": {
    "colab": {
      "provenance": [],
      "collapsed_sections": [],
      "authorship_tag": "ABX9TyMlv1LyN/QFqukGYdMHwyIF",
      "include_colab_link": true
    },
    "kernelspec": {
      "display_name": "Python 3",
      "name": "python3"
    },
    "language_info": {
      "name": "python"
    }
  },
  "nbformat": 4,
  "nbformat_minor": 0
}